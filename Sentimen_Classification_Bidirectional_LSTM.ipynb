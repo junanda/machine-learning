{
  "nbformat": 4,
  "nbformat_minor": 0,
  "metadata": {
    "colab": {
      "name": "Sentimen Classification Bidirectional LSTM.ipynb",
      "provenance": [],
      "toc_visible": true,
      "authorship_tag": "ABX9TyMOkMgjuTUcABwEhq9rSwNi",
      "include_colab_link": true
    },
    "kernelspec": {
      "name": "python3",
      "display_name": "Python 3"
    }
  },
  "cells": [
    {
      "cell_type": "markdown",
      "metadata": {
        "id": "view-in-github",
        "colab_type": "text"
      },
      "source": [
        "<a href=\"https://colab.research.google.com/github/junanda/machine-learning/blob/main/Sentimen_Classification_Bidirectional_LSTM.ipynb\" target=\"_parent\"><img src=\"https://colab.research.google.com/assets/colab-badge.svg\" alt=\"Open In Colab\"/></a>"
      ]
    },
    {
      "cell_type": "markdown",
      "metadata": {
        "id": "MpPzOTAUNFWT"
      },
      "source": [
        "# **Bidirectional LSTM**\n",
        "\n",
        "Sentiment Classification on the IMDB movie review using Bidirectional"
      ]
    },
    {
      "cell_type": "markdown",
      "metadata": {
        "id": "0Jggi7UxNyTa"
      },
      "source": [
        "# Setup"
      ]
    },
    {
      "cell_type": "code",
      "metadata": {
        "id": "WMNJR9K9NDdb"
      },
      "source": [
        "import numpy as np\n",
        "from tensorflow import keras\n",
        "from tensorflow.keras import layers\n",
        "\n",
        "max_feature = 20000\n",
        "max_len = 200"
      ],
      "execution_count": 1,
      "outputs": []
    },
    {
      "cell_type": "markdown",
      "metadata": {
        "id": "9fUGax-tPqHo"
      },
      "source": [
        "# Load IMDB Movie Review"
      ]
    },
    {
      "cell_type": "code",
      "metadata": {
        "id": "nyxlM4LAPyyq",
        "outputId": "93705bdf-04f0-4b8f-939e-2bfbc4e5ba39",
        "colab": {
          "base_uri": "https://localhost:8080/"
        }
      },
      "source": [
        "(x_train, y_train), (x_val, y_val) = keras.datasets.imdb.load_data(num_words=max_feature)\n",
        "print(len(x_train), \"Training sequence\")\n",
        "print(len(x_val), \"Validation sequence\")\n",
        "\n",
        "x_train = keras.preprocessing.sequence.pad_sequences(x_train, maxlen=max_len)\n",
        "x_val = keras.preprocessing.sequence.pad_sequences(x_val, maxlen=max_len)"
      ],
      "execution_count": 3,
      "outputs": [
        {
          "output_type": "stream",
          "text": [
            "Downloading data from https://storage.googleapis.com/tensorflow/tf-keras-datasets/imdb.npz\n",
            "17465344/17464789 [==============================] - 0s 0us/step\n",
            "25000 Training sequence\n",
            "25000 Validation sequence\n"
          ],
          "name": "stdout"
        }
      ]
    },
    {
      "cell_type": "code",
      "metadata": {
        "id": "cepDy0alQvZX",
        "outputId": "49d2bc27-0f1b-4a53-e567-d9fd5ba2a689",
        "colab": {
          "base_uri": "https://localhost:8080/"
        }
      },
      "source": [
        "print(x_train.shape)\n",
        "print(x_train[0])"
      ],
      "execution_count": 6,
      "outputs": [
        {
          "output_type": "stream",
          "text": [
            "(25000, 200)\n",
            "[    5    25   100    43   838   112    50   670     2     9    35   480\n",
            "   284     5   150     4   172   112   167     2   336   385    39     4\n",
            "   172  4536  1111    17   546    38    13   447     4   192    50    16\n",
            "     6   147  2025    19    14    22     4  1920  4613   469     4    22\n",
            "    71    87    12    16    43   530    38    76    15    13  1247     4\n",
            "    22    17   515    17    12    16   626    18 19193     5    62   386\n",
            "    12     8   316     8   106     5     4  2223  5244    16   480    66\n",
            "  3785    33     4   130    12    16    38   619     5    25   124    51\n",
            "    36   135    48    25  1415    33     6    22    12   215    28    77\n",
            "    52     5    14   407    16    82 10311     8     4   107   117  5952\n",
            "    15   256     4     2     7  3766     5   723    36    71    43   530\n",
            "   476    26   400   317    46     7     4 12118  1029    13   104    88\n",
            "     4   381    15   297    98    32  2071    56    26   141     6   194\n",
            "  7486    18     4   226    22    21   134   476    26   480     5   144\n",
            "    30  5535    18    51    36    28   224    92    25   104     4   226\n",
            "    65    16    38  1334    88    12    16   283     5    16  4472   113\n",
            "   103    32    15    16  5345    19   178    32]\n"
          ],
          "name": "stdout"
        }
      ]
    },
    {
      "cell_type": "markdown",
      "metadata": {
        "id": "ioACGqmFTmd0"
      },
      "source": [
        "# Build Model Bidirectional LSTM"
      ]
    },
    {
      "cell_type": "code",
      "metadata": {
        "id": "PPpoHc7nTs62",
        "outputId": "a2eb1c54-d70d-48c0-d3ab-145a1307b73e",
        "colab": {
          "base_uri": "https://localhost:8080/"
        }
      },
      "source": [
        "inputs = keras.Input(shape=(None,), dtype='int32')\n",
        "# embed each integer in a 128-dimensional vector\n",
        "x = layers.Embedding(max_feature, 128)(inputs)\n",
        "# add 2 bidirectional LSTMs\n",
        "x = layers.Bidirectional(layers.LSTM(64, return_sequences=True))(x)\n",
        "x = layers.Bidirectional(layers.LSTM(64))(x)\n",
        "# add a classifier\n",
        "outputs = layers.Dense(1, activation=\"sigmoid\")(x)\n",
        "model = keras.Model(inputs, outputs)\n",
        "model.summary()"
      ],
      "execution_count": 8,
      "outputs": [
        {
          "output_type": "stream",
          "text": [
            "Model: \"functional_2\"\n",
            "_________________________________________________________________\n",
            "Layer (type)                 Output Shape              Param #   \n",
            "=================================================================\n",
            "input_2 (InputLayer)         [(None, None)]            0         \n",
            "_________________________________________________________________\n",
            "embedding_1 (Embedding)      (None, None, 128)         2560000   \n",
            "_________________________________________________________________\n",
            "bidirectional_2 (Bidirection (None, None, 128)         98816     \n",
            "_________________________________________________________________\n",
            "bidirectional_3 (Bidirection (None, 128)               98816     \n",
            "_________________________________________________________________\n",
            "dense_1 (Dense)              (None, 1)                 129       \n",
            "=================================================================\n",
            "Total params: 2,757,761\n",
            "Trainable params: 2,757,761\n",
            "Non-trainable params: 0\n",
            "_________________________________________________________________\n"
          ],
          "name": "stdout"
        }
      ]
    },
    {
      "cell_type": "markdown",
      "metadata": {
        "id": "YGIGW7CWWDuL"
      },
      "source": [
        "# Train and Evaluate"
      ]
    },
    {
      "cell_type": "code",
      "metadata": {
        "id": "OmvCyJ3zWGfY",
        "outputId": "0bfc047d-c96a-4a70-f554-6261c90d3e8e",
        "colab": {
          "base_uri": "https://localhost:8080/"
        }
      },
      "source": [
        "model.compile(\"adam\", \"binary_crossentropy\", metrics=[\"accuracy\"])\n",
        "model.fit(x_train, y_train, batch_size=32, epochs=10, validation_data=(x_val, y_val))"
      ],
      "execution_count": 9,
      "outputs": [
        {
          "output_type": "stream",
          "text": [
            "Epoch 1/10\n",
            "782/782 [==============================] - 433s 554ms/step - loss: 0.3928 - accuracy: 0.8230 - val_loss: 0.3753 - val_accuracy: 0.8364\n",
            "Epoch 2/10\n",
            "782/782 [==============================] - 436s 557ms/step - loss: 0.2091 - accuracy: 0.9214 - val_loss: 0.3535 - val_accuracy: 0.8601\n",
            "Epoch 3/10\n",
            "782/782 [==============================] - 437s 559ms/step - loss: 0.1238 - accuracy: 0.9544 - val_loss: 0.4359 - val_accuracy: 0.8546\n",
            "Epoch 4/10\n",
            "782/782 [==============================] - 437s 559ms/step - loss: 0.0981 - accuracy: 0.9648 - val_loss: 0.5001 - val_accuracy: 0.7953\n",
            "Epoch 5/10\n",
            "782/782 [==============================] - 437s 558ms/step - loss: 0.0786 - accuracy: 0.9734 - val_loss: 0.6081 - val_accuracy: 0.8380\n",
            "Epoch 6/10\n",
            "782/782 [==============================] - 437s 559ms/step - loss: 0.0443 - accuracy: 0.9856 - val_loss: 0.5379 - val_accuracy: 0.8503\n",
            "Epoch 7/10\n",
            "782/782 [==============================] - 437s 559ms/step - loss: 0.0332 - accuracy: 0.9892 - val_loss: 0.6391 - val_accuracy: 0.8507\n",
            "Epoch 8/10\n",
            "782/782 [==============================] - 436s 557ms/step - loss: 0.0258 - accuracy: 0.9920 - val_loss: 0.6164 - val_accuracy: 0.8490\n",
            "Epoch 9/10\n",
            "782/782 [==============================] - 437s 559ms/step - loss: 0.0189 - accuracy: 0.9944 - val_loss: 0.8124 - val_accuracy: 0.8473\n",
            "Epoch 10/10\n",
            "782/782 [==============================] - 438s 560ms/step - loss: 0.0250 - accuracy: 0.9918 - val_loss: 0.7881 - val_accuracy: 0.8519\n"
          ],
          "name": "stdout"
        },
        {
          "output_type": "execute_result",
          "data": {
            "text/plain": [
              "<tensorflow.python.keras.callbacks.History at 0x7f59f3437ef0>"
            ]
          },
          "metadata": {
            "tags": []
          },
          "execution_count": 9
        }
      ]
    },
    {
      "cell_type": "code",
      "metadata": {
        "id": "R751hJvIU7eo"
      },
      "source": [
        ""
      ],
      "execution_count": null,
      "outputs": []
    }
  ]
}